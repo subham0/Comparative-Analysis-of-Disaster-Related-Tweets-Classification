{
 "cells": [
  {
   "cell_type": "code",
   "execution_count": 8,
   "metadata": {},
   "outputs": [],
   "source": [
    "import os\n",
    "import argparse\n",
    "import torch\n",
    "import pandas as pd\n",
    "from transformers import GPT2Tokenizer, GPT2LMHeadModel\n",
    "import numpy as np\n",
    "import warnings\n",
    "warnings.filterwarnings('ignore')"
   ]
  },
  {
   "cell_type": "code",
   "execution_count": 7,
   "metadata": {},
   "outputs": [],
   "source": [
    "def choose_from_top_k_top_n(probs, k=50, p=0.8):\n",
    "    ind = np.argpartition(probs, -k)[-k:]\n",
    "    top_prob = probs[ind]\n",
    "    top_prob = {i: top_prob[idx] for idx,i in enumerate(ind)}\n",
    "    sorted_top_prob = {k: v for k, v in sorted(top_prob.items(), key=lambda item: item[1], reverse=True)}\n",
    "\n",
    "    t=0\n",
    "    f=[]\n",
    "    pr = []\n",
    "    for k,v in sorted_top_prob.items():\n",
    "        t+=v\n",
    "        f.append(k)\n",
    "        pr.append(v)\n",
    "        if t>=p:\n",
    "            break\n",
    "    top_prob = pr / np.sum(pr)\n",
    "    token_id = np.random.choice(f, 1, p = top_prob)\n",
    "\n",
    "    return int(token_id)\n",
    "\n",
    "def generate(tokenizer, model, sentences, label):\n",
    "    generated_text = []\n",
    "    with torch.no_grad():\n",
    "        for idx in range(sentences):\n",
    "            finished = False\n",
    "            cur_ids = torch.tensor(tokenizer.encode(label)).unsqueeze(0).to('cpu')\n",
    "            for i in range(100):\n",
    "                outputs = model(cur_ids, labels=cur_ids)\n",
    "                loss, logits = outputs[:2]\n",
    "\n",
    "                softmax_logits = torch.softmax(logits[0,-1], dim=0)\n",
    "\n",
    "                if i < 5:\n",
    "                    n = 10\n",
    "                else:\n",
    "                    n = 5\n",
    "\n",
    "                next_token_id = choose_from_top_k_top_n(softmax_logits.to('cpu').numpy()) #top-k-top-n sampling\n",
    "                device = torch.device(\"cpu\")\n",
    "                cur_ids = torch.cat([cur_ids, torch.ones((1,1)).long().to(device) * next_token_id], dim = 1)\n",
    "\n",
    "                if next_token_id in tokenizer.encode('<|endoftext|>'):\n",
    "                    finished = True\n",
    "                    break\n",
    "\n",
    "            if finished:\t          \n",
    "                output_list = list(cur_ids.squeeze().to('cpu').numpy())\n",
    "                output_text = tokenizer.decode(output_list)\n",
    "                #print (output_text)\n",
    "                generated_text.append(output_text)\n",
    "            else:\n",
    "                output_list = list(cur_ids.squeeze().to('cpu').numpy())\n",
    "                output_text = tokenizer.decode(output_list)\n",
    "                #print (output_text)\n",
    "                generated_text.append(output_text)\n",
    "    return generated_text\n",
    "\n",
    "def load_models(model_name):\n",
    "    \"\"\"\n",
    "    Summary:\n",
    "        Loading the trained model\n",
    "    \"\"\"\n",
    "    print ('Loading Trained GPT-2 Model')\n",
    "    tokenizer = GPT2Tokenizer.from_pretrained('gpt2-medium')\n",
    "    model = GPT2LMHeadModel.from_pretrained('gpt2-medium')\n",
    "    model_path = model_name\n",
    "    model.load_state_dict(torch.load(model_path))\n",
    "    return tokenizer, model"
   ]
  },
  {
   "cell_type": "code",
   "execution_count": 4,
   "metadata": {},
   "outputs": [],
   "source": [
    "MODEL_NAME = r'C:\\Users\\gupta\\OneDrive\\Desktop\\ADT\\Projects\\Code\\hurrican_GPT2.pt'"
   ]
  },
  {
   "cell_type": "code",
   "execution_count": 5,
   "metadata": {},
   "outputs": [
    {
     "name": "stdout",
     "output_type": "stream",
     "text": [
      "Loading Trained GPT-2 Model\n"
     ]
    }
   ],
   "source": [
    "TOKENIZER, MODEL = load_models(MODEL_NAME)"
   ]
  },
  {
   "cell_type": "code",
   "execution_count": 9,
   "metadata": {},
   "outputs": [],
   "source": [
    "df = pd.read_csv(\"hurricane.csv\")"
   ]
  },
  {
   "cell_type": "code",
   "execution_count": 10,
   "metadata": {},
   "outputs": [],
   "source": [
    "class_distribution_df = df.groupby(['label_text']).count().drop(columns=df.columns.tolist()[:len(df.columns.tolist())-2]).reset_index()\n",
    "class_distribution_df.rename(columns={class_distribution_df.columns[1]:'count'},inplace=True)"
   ]
  },
  {
   "cell_type": "code",
   "execution_count": 17,
   "metadata": {},
   "outputs": [
    {
     "data": {
      "text/html": [
       "<div>\n",
       "<style scoped>\n",
       "    .dataframe tbody tr th:only-of-type {\n",
       "        vertical-align: middle;\n",
       "    }\n",
       "\n",
       "    .dataframe tbody tr th {\n",
       "        vertical-align: top;\n",
       "    }\n",
       "\n",
       "    .dataframe thead th {\n",
       "        text-align: right;\n",
       "    }\n",
       "</style>\n",
       "<table border=\"1\" class=\"dataframe\">\n",
       "  <thead>\n",
       "    <tr style=\"text-align: right;\">\n",
       "      <th></th>\n",
       "      <th>label_text</th>\n",
       "      <th>count</th>\n",
       "    </tr>\n",
       "  </thead>\n",
       "  <tbody>\n",
       "    <tr>\n",
       "      <th>0</th>\n",
       "      <td>affected_individuals</td>\n",
       "      <td>328</td>\n",
       "    </tr>\n",
       "    <tr>\n",
       "      <th>1</th>\n",
       "      <td>infrastructure_and_utility_damage</td>\n",
       "      <td>907</td>\n",
       "    </tr>\n",
       "    <tr>\n",
       "      <th>2</th>\n",
       "      <td>injured_or_dead_people</td>\n",
       "      <td>159</td>\n",
       "    </tr>\n",
       "    <tr>\n",
       "      <th>3</th>\n",
       "      <td>missing_or_found_people</td>\n",
       "      <td>15</td>\n",
       "    </tr>\n",
       "    <tr>\n",
       "      <th>4</th>\n",
       "      <td>rescue_volunteering_or_donation_effort</td>\n",
       "      <td>2625</td>\n",
       "    </tr>\n",
       "    <tr>\n",
       "      <th>5</th>\n",
       "      <td>vehicle_damage</td>\n",
       "      <td>50</td>\n",
       "    </tr>\n",
       "  </tbody>\n",
       "</table>\n",
       "</div>"
      ],
      "text/plain": [
       "                               label_text  count\n",
       "0                    affected_individuals    328\n",
       "1       infrastructure_and_utility_damage    907\n",
       "2                  injured_or_dead_people    159\n",
       "3                 missing_or_found_people     15\n",
       "4  rescue_volunteering_or_donation_effort   2625\n",
       "5                          vehicle_damage     50"
      ]
     },
     "execution_count": 17,
     "metadata": {},
     "output_type": "execute_result"
    }
   ],
   "source": [
    "class_distribution_df"
   ]
  },
  {
   "cell_type": "code",
   "execution_count": 16,
   "metadata": {},
   "outputs": [
    {
     "data": {
      "text/plain": [
       "0    328\n",
       "Name: count, dtype: int64"
      ]
     },
     "execution_count": 16,
     "metadata": {},
     "output_type": "execute_result"
    }
   ],
   "source": [
    "class_distribution_df[class_distribution_df['label_text']=='affected_individuals']['count']"
   ]
  },
  {
   "cell_type": "code",
   "execution_count": 13,
   "metadata": {},
   "outputs": [
    {
     "data": {
      "text/plain": [
       "2625"
      ]
     },
     "execution_count": 13,
     "metadata": {},
     "output_type": "execute_result"
    }
   ],
   "source": [
    "class_distribution_df['count'].max()"
   ]
  },
  {
   "cell_type": "code",
   "execution_count": 6,
   "metadata": {},
   "outputs": [
    {
     "name": "stdout",
     "output_type": "stream",
     "text": [
      "missing or found people: People wake up to the news of a missing # Harvey # Jax family... more  <|endoftext|>\n",
      "missing or found people: RT @JL4YTE : Florida man has a 4 feet high 3 foot high rubber raft floated down 1.5 miles to raise money for Harvey victims  <|endoftext|>\n",
      "missing or found people: RT @WJBF : 5 people found trapped in their van after Harvey  <|endoftext|>\n",
      "missing or found people: How much debris are we talking about? @JuanCruz8  <|endoftext|>\n",
      "missing or found people: Florida family faces deportation after Hurricane Irma  <|endoftext|>\n"
     ]
    },
    {
     "data": {
      "text/plain": [
       "['missing or found people: People wake up to the news of a missing # Harvey # Jax family... more  <|endoftext|>',\n",
       " 'missing or found people: RT @JL4YTE : Florida man has a 4 feet high 3 foot high rubber raft floated down 1.5 miles to raise money for Harvey victims  <|endoftext|>',\n",
       " 'missing or found people: RT @WJBF : 5 people found trapped in their van after Harvey  <|endoftext|>',\n",
       " 'missing or found people: How much debris are we talking about? @JuanCruz8  <|endoftext|>',\n",
       " 'missing or found people: Florida family faces deportation after Hurricane Irma  <|endoftext|>']"
      ]
     },
     "execution_count": 6,
     "metadata": {},
     "output_type": "execute_result"
    }
   ],
   "source": [
    "\n",
    "for dataset_path in [\"hurricane.csv\",\"flood.csv\",\"earthquake.csv\",\"wildfire.csv\"]:\n",
    "    df = pd.read_csv(dataset_path)\n",
    "    class_distribution_df = df.groupby(['label_text']).count().drop(columns=df.columns.tolist()[:len(df.columns.tolist())-2]).reset_index()\n",
    "    class_distribution_df.rename(columns={class_distribution_df.columns[1]:'count'},inplace=True)\n",
    "    MAX_NO_OF_SENTENCES = class_distribution_df['count'].max()\n",
    "    generated_df = pd.DataFrame()\n",
    "    for LABEL in ['affected_individuals', 'infrastructure_and_utility_damage', 'injured_or_dead_people', 'missing_or_found_people',\n",
    "                 'rescue_volunteering_or_donation_effort', 'vehicle_damage']:\n",
    "        SENTENCES = MAX_NO_OF_SENTENCES - class_distribution_df[class_distribution_df['label_text']==LABEL]['count']\n",
    "        generated_text = generate(TOKENIZER, MODEL, SENTENCES, LABEL)\n",
    "        generated_text = [text.strip(\"<|endoftext|>\") for text in generated_text]\n",
    "        labels = [LABEL] * len(generated_text)\n",
    "        tmp_df = pd.DataFrame(list(zip(generated_text,labels)),columns=['',''])\n"
   ]
  },
  {
   "cell_type": "code",
   "execution_count": 20,
   "metadata": {},
   "outputs": [
    {
     "data": {
      "text/plain": [
       "['x', 'x', 'x', 'x', 'x']"
      ]
     },
     "execution_count": 20,
     "metadata": {},
     "output_type": "execute_result"
    }
   ],
   "source": [
    "generated_text = [text.strip(\"<|endoftext|>\") for text in generated_text]\n",
    "label = ['x'] * len(generated_text)\n",
    "label"
   ]
  },
  {
   "cell_type": "code",
   "execution_count": 23,
   "metadata": {},
   "outputs": [
    {
     "data": {
      "text/html": [
       "<div>\n",
       "<style scoped>\n",
       "    .dataframe tbody tr th:only-of-type {\n",
       "        vertical-align: middle;\n",
       "    }\n",
       "\n",
       "    .dataframe tbody tr th {\n",
       "        vertical-align: top;\n",
       "    }\n",
       "\n",
       "    .dataframe thead th {\n",
       "        text-align: right;\n",
       "    }\n",
       "</style>\n",
       "<table border=\"1\" class=\"dataframe\">\n",
       "  <thead>\n",
       "    <tr style=\"text-align: right;\">\n",
       "      <th></th>\n",
       "      <th>0</th>\n",
       "      <th>1</th>\n",
       "    </tr>\n",
       "  </thead>\n",
       "  <tbody>\n",
       "    <tr>\n",
       "      <th>0</th>\n",
       "      <td>missing or found people: People wake up to the...</td>\n",
       "      <td>x</td>\n",
       "    </tr>\n",
       "    <tr>\n",
       "      <th>1</th>\n",
       "      <td>missing or found people: RT @JL4YTE : Florida ...</td>\n",
       "      <td>x</td>\n",
       "    </tr>\n",
       "    <tr>\n",
       "      <th>2</th>\n",
       "      <td>missing or found people: RT @WJBF : 5 people f...</td>\n",
       "      <td>x</td>\n",
       "    </tr>\n",
       "    <tr>\n",
       "      <th>3</th>\n",
       "      <td>missing or found people: How much debris are w...</td>\n",
       "      <td>x</td>\n",
       "    </tr>\n",
       "    <tr>\n",
       "      <th>4</th>\n",
       "      <td>missing or found people: Florida family faces ...</td>\n",
       "      <td>x</td>\n",
       "    </tr>\n",
       "  </tbody>\n",
       "</table>\n",
       "</div>"
      ],
      "text/plain": [
       "                                                   0  1\n",
       "0  missing or found people: People wake up to the...  x\n",
       "1  missing or found people: RT @JL4YTE : Florida ...  x\n",
       "2  missing or found people: RT @WJBF : 5 people f...  x\n",
       "3  missing or found people: How much debris are w...  x\n",
       "4  missing or found people: Florida family faces ...  x"
      ]
     },
     "execution_count": 23,
     "metadata": {},
     "output_type": "execute_result"
    }
   ],
   "source": [
    "pd.DataFrame(list(zip(generated_text,label)))"
   ]
  },
  {
   "cell_type": "code",
   "execution_count": 22,
   "metadata": {},
   "outputs": [
    {
     "name": "stdout",
     "output_type": "stream",
     "text": [
      "missing or found people: Trump signs travel ban... but does nothing to assist stranded children on the Florida coast  <|endoftext|>\n",
      "missing or found people: Families of missing family members hold a candlelight vigil in Miami  <|endoftext|>\n",
      "missing or found people: Photos of the devastation by Irma from Miami - Dade, Florida, on Oct. 27  <|endoftext|>\n",
      "missing or found people: One More Day: Harvey Still Determining Impact on Families  <|endoftext|>\n",
      "missing or found people: RT @michael_mullins : In search of help after Hurricane Maria leaves islands reeling  <|endoftext|>\n"
     ]
    }
   ],
   "source": [
    "generate(TOKENIZER, MODEL, SENTENCES, LABEL)"
   ]
  },
  {
   "cell_type": "code",
   "execution_count": null,
   "metadata": {},
   "outputs": [],
   "source": []
  }
 ],
 "metadata": {
  "kernelspec": {
   "display_name": "base",
   "language": "python",
   "name": "python3"
  },
  "language_info": {
   "codemirror_mode": {
    "name": "ipython",
    "version": 3
   },
   "file_extension": ".py",
   "mimetype": "text/x-python",
   "name": "python",
   "nbconvert_exporter": "python",
   "pygments_lexer": "ipython3",
   "version": "3.9.12"
  },
  "orig_nbformat": 4,
  "vscode": {
   "interpreter": {
    "hash": "c0674782e80fe76cdafa01c42e1ecf76036ae81de091792b76700c7fc0e3fe17"
   }
  }
 },
 "nbformat": 4,
 "nbformat_minor": 2
}
